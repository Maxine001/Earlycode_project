{
 "cells": [
  {
   "cell_type": "code",
   "execution_count": 2,
   "id": "16ca7f19",
   "metadata": {},
   "outputs": [],
   "source": [
    "import pymysql\n",
    "\n",
    "mydb = pymysql.connect(\n",
    "    user = \"root\",\n",
    "    host = \"localhost\",\n",
    "    port = 3306,\n",
    "    password = \"12233445Lilg\"\n",
    ")\n",
    "mycursor = mydb.cursor()\n"
   ]
  },
  {
   "cell_type": "code",
   "execution_count": 4,
   "id": "ce4fcf3c",
   "metadata": {},
   "outputs": [
    {
     "name": "stdout",
     "output_type": "stream",
     "text": [
      "('employee_details',)\n",
      "('employee_details2',)\n",
      "('huncho_credit',)\n",
      "('huncho_hospitals',)\n",
      "('huncho_hotels',)\n",
      "('information_schema',)\n",
      "('mysql',)\n",
      "('oxforduni',)\n",
      "('performance_schema',)\n",
      "('sakila',)\n",
      "('sys',)\n",
      "('user_table',)\n",
      "('world',)\n"
     ]
    }
   ],
   "source": [
    "mycursor.execute(\"show databases\")\n",
    "for x in mycursor:\n",
    "    print(x)"
   ]
  },
  {
   "cell_type": "code",
   "execution_count": 3,
   "id": "0ee1d8c6",
   "metadata": {},
   "outputs": [
    {
     "data": {
      "text/plain": [
       "1"
      ]
     },
     "execution_count": 3,
     "metadata": {},
     "output_type": "execute_result"
    }
   ],
   "source": [
    "mycursor.execute(\"create database Huncho_Hospitals\")\n"
   ]
  },
  {
   "cell_type": "code",
   "execution_count": 5,
   "id": "8c76b162",
   "metadata": {},
   "outputs": [
    {
     "data": {
      "text/plain": [
       "0"
      ]
     },
     "execution_count": 5,
     "metadata": {},
     "output_type": "execute_result"
    }
   ],
   "source": [
    "mycursor.execute(\"use Huncho_hospitals\")"
   ]
  },
  {
   "cell_type": "code",
   "execution_count": 5,
   "id": "8cb4824e",
   "metadata": {},
   "outputs": [
    {
     "data": {
      "text/plain": [
       "0"
      ]
     },
     "execution_count": 5,
     "metadata": {},
     "output_type": "execute_result"
    }
   ],
   "source": [
    "mycursor.execute(\"create table Registration (id int primary key not null, name varchar(50) not null, email varchar(50) not null, contact varchar(50) not null, gender varchar(50) not null, age int not null)\")\n"
   ]
  },
  {
   "cell_type": "code",
   "execution_count": 6,
   "id": "6caa225c",
   "metadata": {},
   "outputs": [
    {
     "name": "stdout",
     "output_type": "stream",
     "text": [
      "('id', 'int', 'NO', 'PRI', None, '')\n",
      "('name', 'varchar(50)', 'NO', '', None, '')\n",
      "('email', 'varchar(50)', 'NO', '', None, '')\n",
      "('contact', 'varchar(50)', 'NO', '', None, '')\n",
      "('gender', 'varchar(50)', 'NO', '', None, '')\n",
      "('age', 'int', 'NO', '', None, '')\n"
     ]
    }
   ],
   "source": [
    "mycursor.execute(\"show columns from Registration\")\n",
    "for x in mycursor:\n",
    "    print(x)"
   ]
  },
  {
   "cell_type": "code",
   "execution_count": null,
   "id": "7328da04",
   "metadata": {},
   "outputs": [],
   "source": [
    "mycursor.execute(\"create table appointment (id int primary key not null, name varchar(50) not null, email varchar(50) not null, contact varchar(50) not null, gender varchar(50) not null, age int not null)\")"
   ]
  },
  {
   "cell_type": "code",
   "execution_count": null,
   "id": "991cb1f1",
   "metadata": {},
   "outputs": [],
   "source": [
    "date = input(\"Enter todays date\")"
   ]
  },
  {
   "cell_type": "code",
   "execution_count": 6,
   "id": "21cdbe82",
   "metadata": {},
   "outputs": [
    {
     "name": "stdout",
     "output_type": "stream",
     "text": [
      "\n",
      "        WELCOME TO HUNCHO HOSPITAL\n",
      "\n",
      "        [PRESS 1 TO REGISTER]\n",
      "        \n",
      "select operation:1\n",
      "Enter your id:20\n",
      "Enter your name:mac\n",
      "Enter your email:mzmks\n",
      "Enter your phone number:344343\n",
      "please Enter your gender:male\n",
      "Enter your age54\n",
      "0\n",
      "registration successful, you can now book an appointment\n",
      "\n",
      "    <<<<<-BOOK AN APPOINMENT-->>>>>>\n",
      "    REGISTRATION ID:20\n",
      "    WELCOME MAC, YOU CAN NOW BOOK AN APPOINTMENT\n",
      "    \n",
      "Enter your registration ID:54\n",
      "()\n",
      "please enter a corrrect registration id:\n"
     ]
    }
   ],
   "source": [
    "def registration():\n",
    "    id = int(input(\"Enter your id:\"))\n",
    "    name = input(\"Enter your name:\")\n",
    "    email = input(\"Enter your email:\")\n",
    "    contact = int(input(\"Enter your phone number:\"))\n",
    "    gender = input(\"please Enter your gender:\")\n",
    "    age = input(\"Enter your age\")\n",
    "    \n",
    "    data = (id,name,email,contact,gender,age)\n",
    "    \n",
    "    if data != \"\":\n",
    "        query = \"insert into Registration(id,name,email,contact,gender,age) values(%s,%s,%s,%s,%s,%s)\"\n",
    "        mycursor.execute(query, (id,name,email,contact,gender,age))\n",
    "        mydb.commit()\n",
    "        print(mycursor.lastrowid)\n",
    "        print(\"registration successful, you can now book an appointment\")\n",
    "        book_appointment(name,id)\n",
    "    else:\n",
    "        print(\"please enter a value\")\n",
    "        \n",
    "def book_appointment(name,id):\n",
    "    \n",
    "    print(f\"\"\"\n",
    "    <<<<<-BOOK AN APPOINMENT-->>>>>>\n",
    "    REGISTRATION ID:{id}\n",
    "    WELCOME {name.upper()}, YOU CAN NOW BOOK AN APPOINTMENT\n",
    "    \"\"\")\n",
    "            \n",
    "    id = int(input(\"Enter your registration ID:\"))\n",
    "    query = 'select id from Registration where id = \"%s\"'\n",
    "    mycursor.execute(query,(id,))\n",
    "    result = mycursor.fetchall()\n",
    "    print(result)\n",
    "    if len(result) == 0:\n",
    "        print(\"please enter a corrrect registration id:\")\n",
    "    else:\n",
    "        for x in result:\n",
    "            registrationId = x[0]\n",
    "            \n",
    "            if registrationId == id:\n",
    "                option = input(\"What specialization: [Dentist, Neurologist, Dermatologist, Oncolologist]\")\n",
    "                if option == \"Dentist\" or option == \"dentist\" or option == \"Neurologist\" or option ==\"neurologist\" or option ==\"Dermatologist\" or option ==\"dermatologist\" or option ==\"Oncolologist\" or option ==\"oncolologist\":\n",
    "                    print(f\"\"\"\n",
    "                    REGISTRATION ID:{id}\n",
    "                    PATIENT NAME:{name}\n",
    "                    SPECIALIZATION:{option}\n",
    "                    DATE:\n",
    "                    TIME:\n",
    "                    APPOINTMENT SUCCESSFULLY BOOKED.....\n",
    "                    \"\"\")\n",
    "                else:\n",
    "                    print(\"please enter a correct option\")\n",
    "                    book_appointment(name,id)\n",
    "        \n",
    "    \n",
    "            \n",
    "    \n",
    "    \n",
    "    \n",
    "    \n",
    "    \n",
    "def reservation_details():\n",
    "        print(\"\"\"\n",
    "        WELCOME TO HUNCHO HOSPITAL\n",
    "\n",
    "        [PRESS 1 TO REGISTER]\n",
    "        \"\"\")\n",
    "        OPERATION = True\n",
    "        while OPERATION:\n",
    "            option = int(input(\"select operation:\"))\n",
    "            if option == 1:\n",
    "                registration()\n",
    "            else:\n",
    "                print(\"please select 1 to proceed\")\n",
    "                OPERATION = False\n",
    "                print(\"OPERATION TERMINATED.....\")\n",
    "            break  \n",
    "reservation_details()"
   ]
  },
  {
   "cell_type": "code",
   "execution_count": null,
   "id": "18c097f4",
   "metadata": {},
   "outputs": [],
   "source": []
  }
 ],
 "metadata": {
  "kernelspec": {
   "display_name": "Python 3 (ipykernel)",
   "language": "python",
   "name": "python3"
  },
  "language_info": {
   "codemirror_mode": {
    "name": "ipython",
    "version": 3
   },
   "file_extension": ".py",
   "mimetype": "text/x-python",
   "name": "python",
   "nbconvert_exporter": "python",
   "pygments_lexer": "ipython3",
   "version": "3.11.5"
  }
 },
 "nbformat": 4,
 "nbformat_minor": 5
}
