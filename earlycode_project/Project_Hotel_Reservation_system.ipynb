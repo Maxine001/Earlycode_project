{
 "cells": [
  {
   "cell_type": "code",
   "execution_count": 1,
   "id": "6b5d55d9",
   "metadata": {},
   "outputs": [],
   "source": [
    "#first we create a connecion to my databese to store customers info\n",
    "import datetime\n",
    "import pymysql\n",
    "\n",
    "mydb = pymysql.connect(\n",
    "    user = \"root\",\n",
    "    port = 3306,\n",
    "    host = \"localhost\",\n",
    "    password = \"12233445Lilg\"\n",
    ")\n",
    "\n",
    "mycursor = mydb.cursor()"
   ]
  },
  {
   "cell_type": "code",
   "execution_count": 3,
   "id": "aa375f51",
   "metadata": {},
   "outputs": [
    {
     "name": "stdout",
     "output_type": "stream",
     "text": [
      "('employee_details',)\n",
      "('employee_details2',)\n",
      "('huncho_hospitals',)\n",
      "('information_schema',)\n",
      "('mysql',)\n",
      "('oxforduni',)\n",
      "('performance_schema',)\n",
      "('sakila',)\n",
      "('sys',)\n",
      "('user_table',)\n",
      "('world',)\n"
     ]
    }
   ],
   "source": [
    "mycursor.execute(\"show databases\")\n",
    "for x in mycursor:\n",
    "    print(x)\n",
    "    \n",
    "\n"
   ]
  },
  {
   "cell_type": "code",
   "execution_count": 4,
   "id": "7877f9a1",
   "metadata": {},
   "outputs": [
    {
     "data": {
      "text/plain": [
       "1"
      ]
     },
     "execution_count": 4,
     "metadata": {},
     "output_type": "execute_result"
    }
   ],
   "source": [
    "mycursor.execute(\"create database huncho_hotels\")\n"
   ]
  },
  {
   "cell_type": "code",
   "execution_count": 5,
   "id": "1e38d831",
   "metadata": {},
   "outputs": [
    {
     "data": {
      "text/plain": [
       "0"
      ]
     },
     "execution_count": 5,
     "metadata": {},
     "output_type": "execute_result"
    }
   ],
   "source": [
    "mycursor.execute(\"use huncho_hotels\")\n",
    "mycursor.execute(\"create table customer_details(id int primary key not null,customers_name varchar(50) not null, phone_number varchar(20) not null , email varchar(100) not null,todaydate date not null ,staydays int not null,checkoutdate date not null)\")"
   ]
  },
  {
   "cell_type": "code",
   "execution_count": 24,
   "id": "f64df339",
   "metadata": {},
   "outputs": [
    {
     "name": "stdout",
     "output_type": "stream",
     "text": [
      "('id', 'int', 'NO', 'PRI', None, '')\n",
      "('customers_name', 'varchar(50)', 'NO', '', None, '')\n",
      "('phone_number', 'varchar(20)', 'NO', '', None, '')\n",
      "('email', 'varchar(100)', 'NO', '', None, '')\n",
      "('currentdate', 'date', 'NO', '', None, '')\n",
      "('staydays', 'int', 'NO', '', None, '')\n",
      "('checkoutdate', 'date', 'NO', '', None, '')\n"
     ]
    }
   ],
   "source": [
    "mycursor.execute(\"show columns from customer_details\")\n",
    "for x in mycursor:\n",
    "    print(x)"
   ]
  },
  {
   "cell_type": "code",
   "execution_count": null,
   "id": "a9fa956c",
   "metadata": {},
   "outputs": [
    {
     "name": "stdout",
     "output_type": "stream",
     "text": [
      "\n",
      "    WELCOME TO HUNCHO HOTELS & SUITES\n",
      "\n",
      "    [PRESS 1 FOR BOOKINGS\n",
      "    PRESS 2 FOR FOR PAYMENT\n",
      "    PRESS 3 FOR ROOM SERVICE\n",
      "    PRESS 4 FOR RECORD]\n",
      "        \n"
     ]
    }
   ],
   "source": [
    "## we then create a model that can collect customers info and also perform other hotel reservation functions\n",
    "def reservation_details():\n",
    "        print(\"\"\"\n",
    "    WELCOME TO HUNCHO HOTELS & SUITES\n",
    "\n",
    "    [PRESS 1 FOR BOOKINGS\n",
    "    PRESS 2 FOR FOR PAYMENT\n",
    "    PRESS 3 FOR ROOM SERVICE\n",
    "    PRESS 4 FOR RECORD]\n",
    "        \"\"\")\n",
    "        OPERATION = True\n",
    "        while OPERATION:\n",
    "            option = int(input(\"select operation:\"))\n",
    "            if option == 1:\n",
    "                bookings()\n",
    "            elif option == 2:\n",
    "                payment()\n",
    "            elif option == 3:\n",
    "                room_service()\n",
    "            elif option == 4:\n",
    "                records()\n",
    "            elif option == 5:\n",
    "                exit()\n",
    "                OPERATION = False\n",
    "                print(\"OPERATION TERMINATED.....\")\n",
    "            break  \n",
    "try:            \n",
    "    def bookings():\n",
    "        print(\"BOOKINGS & RESERVATION\")\n",
    "        mycursor.execute(\"use huncho_hotels\")\n",
    "\n",
    "        todaydate = datetime.date.today()\n",
    "\n",
    "\n",
    "\n",
    "        id = input(\"Enter your Id:\")\n",
    "        customers_name = input(\"Enter your name:\")\n",
    "        phone_number = int(input(\"Enter your phone number:\"))\n",
    "        email = input(\"Enter your email address:\")\n",
    "        bookingdate = input(\"Enter todays date [mm/dd/yy]\")\n",
    "        staydays = int(input(\"Enter number of days you'd like to stay:\"))\n",
    "        checkoutdate = todaydate + datetime.timedelta(days = staydays)\n",
    "\n",
    "\n",
    "        ## booking date\n",
    "        currentdate = todaydate.strftime('%m/%d/%Y')\n",
    "        print(currentdate)\n",
    "        ##\n",
    "\n",
    "\n",
    "\n",
    "        if id ==\"\" or customers_name ==\"\" or phone_number ==\"\" or email ==\"\" or phone_number ==\"\":\n",
    "            print(\"details cannot be empty\")\n",
    "            bookings()\n",
    "        if bookingdate != currentdate:\n",
    "            print(\"Error......Please Enter a correct date\")\n",
    "            bookings()\n",
    "\n",
    "        else:\n",
    "            query = \"insert into customer_details(id, customers_name, phone_number, email, todaydate,staydays,checkoutdate) values(%s,%s,%s,%s,%s,%s,%s)\"\n",
    "            mycursor.execute(query,(id,customers_name,phone_number,email,todaydate,staydays,checkoutdate))\n",
    "            mydb.commit()\n",
    "            print(\"<<<<ROOM SUCCESSFULLY BOOKED>>>>>>\")\n",
    "            \n",
    "except IntegrityError:\n",
    "    print(\"ID already in use, Try another number\")\n",
    "        \n",
    "def payment():\n",
    "    print(\"\"\"\n",
    "        <<<<<--SELECT A ROOM TYPE --->>>>>\n",
    "        PRESS 1 FOR PRESIDENTIAL SUITE\n",
    "        PRESS 2 FOR CONTINENTAL SUITE\n",
    "        PRESS 3 FOR REGULAR SUITE\n",
    "        PRESS 4 FOR GUEST SUITE\n",
    "        \"\"\")\n",
    "    room = int(input(\"SELECT A ROOM TYPE:\"))\n",
    "    if room == 1:\n",
    "        print(f\"\"\"\n",
    "        PRESIDENTIAL SUITE\n",
    "        COST PRICE: $3000\n",
    "        \"\"\")\n",
    "        option = input(\"DO YOU WANT TO PROCEED WITH PAYMENT[yes/no]\").lower()\n",
    "        if option == \"yes\":\n",
    "            print(\"<<<<----PAYMENT SUCCESSFUL---->>>>>\")\n",
    "        else:\n",
    "            payment()\n",
    "    elif room == 2:\n",
    "        print(f\"\"\"\n",
    "        <<<-- CONTINENTAL SUITE -->>>\n",
    "        COST PRICE: $2000\n",
    "        \"\"\")\n",
    "        option = input(\"DO YOU WANT TO PROCEED WITH PAYMENT[yes/no]\")\n",
    "        if option == \"yes\":\n",
    "            print(\"<<<<----PAYMENT SUCCESSFUL---->>>>>\")\n",
    "        else:\n",
    "            payment()\n",
    "    elif room == 3:\n",
    "        print(f\"\"\"\n",
    "        <<<-- REGULAR SUITE --->>>\n",
    "        COST PRICE: $1000\n",
    "        \"\"\")\n",
    "        option = input(\"DO YOU WANT TO PROCEED WITH PAYMENT[yes/no]\").lower()\n",
    "        if option == \"yes\":\n",
    "            print(\"<<<<----PAYMENT SUCCESSFUL---->>>>>\")\n",
    "        else:\n",
    "            payment()\n",
    "    elif room == 4:\n",
    "        print(f\"\"\"\n",
    "        <<<-- GUEST SUITE-->>>\n",
    "        COST PRICE: $500\n",
    "        \"\"\")\n",
    "        option = input(\"DO YOU WANT TO PROCEED WITH PAYMENT[yes/no]\")\n",
    "        if option == \"yes\":\n",
    "            print(\"<<<<----PAYMENT SUCCESSFUL---->>>>>\")\n",
    "        else:\n",
    "            payment() \n",
    "\n",
    "def room_service():\n",
    "    print(\"\"\"\n",
    "        <<<<---ROOM SERVICE-->>>>\n",
    "        PRESS 1 TO ORDER FOR A MEAL\n",
    "        PRESS 2 FOR A LAUNDRY SERVICE\n",
    "        PRESS 3 FOR ROOM CLEANING SERVICE\n",
    "        \"\"\")\n",
    "    option = int(input(\"What services would you like?:\"))\n",
    "    if option == 1:\n",
    "        print(\"\"\"<<<--ORDER FOR A MEAL -->>>>\n",
    "        make a choice of meal--MENU\n",
    "        1.WHITE RICE $ STEW\n",
    "        2.JOLLOF RICE\n",
    "        3.EGUSI SOUP & POUNDO\n",
    "        4.FRIED RICE\"\"\")\n",
    "        meal = int(input(\"please pick an option\"))\n",
    "        if meal == 1:\n",
    "            print(\"PLEASE HOLD, YOUR  MEAL WILL BE DELIVERED IN 20MINS\")\n",
    "        elif meal == 2:\n",
    "            print(\"PLEASE HOLD, YOUR  MEAL WILL BE DELIVERED IN 20MINS\")\n",
    "        elif meal == 3:\n",
    "            print(\"PLEASE HOLD, YOUR  MEAL WILL BE DELIVERED IN 20MINS\")\n",
    "        elif meal == 4:\n",
    "            print(\"PLEASE HOLD, YOUR  MEAL WILL BE DELIVERED IN 20MINS\")\n",
    "        \n",
    "    elif option == 2:\n",
    "        print(\"\"\"\n",
    "        <<<<--- LAUNDRY SERVICE --->>>>\n",
    "        1.WASH GUEST ROOM LINENS\n",
    "        2.WASH TOWEL\n",
    "        \"\"\")\n",
    "        option = int(input(\"PLEASE SELECT AN OPTION\"))\n",
    "        if option == 1:\n",
    "            print(\"ROOM SERVICE ON ITS WAY\")\n",
    "        elif option == 2:\n",
    "            print(\"ROOM SERVICE ON ITS WAY\")\n",
    "            \n",
    "def records():\n",
    "    mycursor.execute(\"use huncho_hotels\")\n",
    "    id = int(input(\"Enter your customerID:\"))\n",
    "    query = \"select * from customer_details where id = '%s'\"\n",
    "    mycursor.execute(query,(id,))\n",
    "    result = mycursor.fetchall()\n",
    "    if len(result) == 0:\n",
    "        print(\"please Enter a valid customerID\")\n",
    "    else:\n",
    "        for x in result:\n",
    "            print(x)\n",
    "    \n",
    "    \n",
    "    \n",
    "reservation_details()\n",
    "\n",
    "## next step is creating all functions called above when customer inputs an option\n"
   ]
  },
  {
   "cell_type": "code",
   "execution_count": null,
   "id": "72a26b9e",
   "metadata": {},
   "outputs": [],
   "source": []
  }
 ],
 "metadata": {
  "kernelspec": {
   "display_name": "Python 3 (ipykernel)",
   "language": "python",
   "name": "python3"
  },
  "language_info": {
   "codemirror_mode": {
    "name": "ipython",
    "version": 3
   },
   "file_extension": ".py",
   "mimetype": "text/x-python",
   "name": "python",
   "nbconvert_exporter": "python",
   "pygments_lexer": "ipython3",
   "version": "3.11.5"
  }
 },
 "nbformat": 4,
 "nbformat_minor": 5
}
