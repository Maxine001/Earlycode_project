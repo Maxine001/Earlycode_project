{
 "cells": [
  {
   "cell_type": "code",
   "execution_count": 46,
   "id": "e0c0cea4",
   "metadata": {},
   "outputs": [],
   "source": [
    "import pymysql\n",
    "import datetime\n",
    "\n",
    "mydb = pymysql.connect(\n",
    "    user = \"root\",\n",
    "    host = \"localhost\",\n",
    "    port = 3306,\n",
    "    password = \"12233445Lilg\"\n",
    ")\n",
    "mycursor = mydb.cursor()\n",
    "\n",
    "    "
   ]
  },
  {
   "cell_type": "code",
   "execution_count": 2,
   "id": "4ec38e02",
   "metadata": {},
   "outputs": [
    {
     "name": "stdout",
     "output_type": "stream",
     "text": [
      "('employee_details',)\n",
      "('employee_details2',)\n",
      "('huncho_hospitals',)\n",
      "('huncho_hotels',)\n",
      "('information_schema',)\n",
      "('mysql',)\n",
      "('oxforduni',)\n",
      "('performance_schema',)\n",
      "('sakila',)\n",
      "('sys',)\n",
      "('user_table',)\n",
      "('world',)\n"
     ]
    }
   ],
   "source": [
    "mycursor.execute(\"show databases\")\n",
    "for x in mycursor:\n",
    "    print(x)"
   ]
  },
  {
   "cell_type": "code",
   "execution_count": 3,
   "id": "bbddcb0a",
   "metadata": {},
   "outputs": [
    {
     "data": {
      "text/plain": [
       "1"
      ]
     },
     "execution_count": 3,
     "metadata": {},
     "output_type": "execute_result"
    }
   ],
   "source": [
    "mycursor.execute(\"create database Huncho_credit\")"
   ]
  },
  {
   "cell_type": "code",
   "execution_count": 16,
   "id": "7f3d81d2",
   "metadata": {},
   "outputs": [
    {
     "data": {
      "text/plain": [
       "0"
      ]
     },
     "execution_count": 16,
     "metadata": {},
     "output_type": "execute_result"
    }
   ],
   "source": [
    "mycursor.execute(\"use Huncho_credit\")"
   ]
  },
  {
   "cell_type": "code",
   "execution_count": 17,
   "id": "2583610e",
   "metadata": {},
   "outputs": [
    {
     "data": {
      "text/plain": [
       "0"
      ]
     },
     "execution_count": 17,
     "metadata": {},
     "output_type": "execute_result"
    }
   ],
   "source": [
    "mycursor.execute(\"create table loanee_info(id int primary key not null, name varchar(50) not null, email varchar(50) not null, contact int not null,gender varchar(10) not null,age int not null, location varchar(50) not null,collection_date date not null, repayment_date date not null)\")"
   ]
  },
  {
   "cell_type": "code",
   "execution_count": 52,
   "id": "1b732574",
   "metadata": {},
   "outputs": [
    {
     "data": {
      "text/plain": [
       "0"
      ]
     },
     "execution_count": 52,
     "metadata": {},
     "output_type": "execute_result"
    }
   ],
   "source": [
    "mycursor.execute(\"create table payment_info(id int primary key not null, name varchar(50) not null, gender varchar(50) not null,amount int not null, paymentdate date not null)\")"
   ]
  },
  {
   "cell_type": "code",
   "execution_count": 22,
   "id": "c15506a9",
   "metadata": {},
   "outputs": [
    {
     "name": "stdout",
     "output_type": "stream",
     "text": [
      "('id', 'int', 'NO', 'PRI', None, '')\n",
      "('name', 'varchar(50)', 'NO', '', None, '')\n",
      "('email', 'varchar(50)', 'NO', '', None, '')\n",
      "('contact', 'int', 'NO', '', None, '')\n",
      "('gender', 'varchar(10)', 'NO', '', None, '')\n",
      "('age', 'int', 'NO', '', None, '')\n",
      "('location', 'varchar(50)', 'NO', '', None, '')\n",
      "('collection_date', 'date', 'NO', '', None, '')\n",
      "('repayment_date', 'date', 'NO', '', None, '')\n"
     ]
    }
   ],
   "source": [
    "mycursor.execute(\"show columns from loanee_info\")\n",
    "for x in mycursor:\n",
    "    print(x)"
   ]
  },
  {
   "cell_type": "code",
   "execution_count": 61,
   "id": "059bf571",
   "metadata": {},
   "outputs": [
    {
     "name": "stdout",
     "output_type": "stream",
     "text": [
      "\n",
      "        WELCOME TO HUNCHO_LOANS $ CREDIT\n",
      "\n",
      "        [PRESS 1 FOR LOAN REQUEST\n",
      "         PRESS 2 TO CHECK LOAN STATUS\n",
      "         PRESS 3 FOR REPAYMENT\n",
      "         PRESS 4 FOR RECORDS\n",
      "         \n",
      "        ]\n",
      "        \n",
      "select operation:4\n",
      "(1, 'max', 'male', 20000, datetime.date(2024, 3, 20))\n"
     ]
    }
   ],
   "source": [
    "def loan_request():   \n",
    "    id = int(input(\"Enter your id:\"))\n",
    "    name = input(\"Enter your name:\")\n",
    "    email = input(\"Enter your email:\")\n",
    "    contact = int(input(\"Enter your phone number:\"))\n",
    "    gender = input(\"please Enter your gender:\")\n",
    "    age = int(input(\"Enter your age:\"))\n",
    "    location = input(\"Enter your location:\")\n",
    "    amount = int(input(\"Enter amount you wish borrow\"))\n",
    "    collection_date = datetime.date.today()\n",
    "    repayment_date = collection_date + datetime.timedelta(days = 365)\n",
    "    \n",
    "    if name ==\"\" or email ==\"\" or contact == \"\" or gender ==\"\" or age ==\"\":\n",
    "        print(\"You cannot leave option empty\")\n",
    "    if age <= 17:\n",
    "        print(\"Sorry you are not eligible for a loan\")\n",
    "        loan_request()\n",
    "    else:\n",
    "        query = \"insert into loanee_info(id,name,email,contact,gender,age,location,collection_date,repayment_date) values(%s,%s,%s,%s,%s,%s,%s,%s,%s)\"\n",
    "        mycursor.execute(query,(id,name,email,contact,gender,age,location,collection_date,repayment_date))\n",
    "        mydb.commit()\n",
    "        print(\"<<<< APPLICATION SUCCESSFUL >>>>\")\n",
    "        menu()\n",
    "        \n",
    "def loan_status():\n",
    "    mycursor.execute(\"use Huncho_credit\")\n",
    "    id = int(input(\"Enter your registration ID:\"))\n",
    "    query = 'select * from loanee_info where id = \"%s\"'\n",
    "    mycursor.execute(query,id,)\n",
    "    result = mycursor.fetchall()\n",
    "    print(result)\n",
    "    if len(result) == 0:\n",
    "        print(\"please enter a corrrect registration id:\")\n",
    "    else:\n",
    "        for x in result:\n",
    "            print(x)\n",
    "            \n",
    "def loan_repayment():\n",
    "    id = int(input(\"Enter your Id\"))\n",
    "    name = input(\"Enter your name:\")\n",
    "    gender = input(\"please Enter your gender:\")\n",
    "    amount = int(input(\"Enter payment amount\"))\n",
    "    paymentdate = datetime.date.today()\n",
    "    \n",
    "    if name ==\"\" or id ==\"\" or amount == \"\" or gender ==\"\":\n",
    "        print(\"You cannot leave option empty\")\n",
    "    else:\n",
    "        query = \"insert into payment_info(id,name,gender,amount,paymentdate) values(%s,%s,%s,%s,%s)\"\n",
    "        mycursor.execute(query,(id,name,gender,amount,paymentdate))\n",
    "        mydb.commit()\n",
    "        print(\"<<<< PAYMENT SUCCESSFUL >>>>\")\n",
    "        \n",
    "def show_records():\n",
    "    mycursor.execute(\"select * from payment_info\")\n",
    "    for x in mycursor:\n",
    "        print(x)\n",
    "     \n",
    "    \n",
    "\n",
    "def menu():\n",
    "        print(\"\"\"\n",
    "        WELCOME TO HUNCHO_LOANS $ CREDIT\n",
    "\n",
    "        [PRESS 1 FOR LOAN REQUEST\n",
    "         PRESS 2 TO CHECK LOAN STATUS\n",
    "         PRESS 3 FOR REPAYMENT\n",
    "         PRESS 4 FOR RECORDS\n",
    "         \n",
    "        ]\n",
    "        \"\"\")\n",
    "        OPERATION = True\n",
    "        while OPERATION:\n",
    "            option = int(input(\"select operation:\"))\n",
    "            if option == 1:\n",
    "                loan_request()\n",
    "            elif option == 2:\n",
    "                loan_status()\n",
    "            elif option == 3:\n",
    "                loan_repayment()\n",
    "            elif option == 4:\n",
    "                show_records()\n",
    "                \n",
    "            else:\n",
    "                print(\"please select a valid option to proceed\")\n",
    "                OPERATION = False\n",
    "                print(\"OPERATION TERMINATED.....\")\n",
    "            break  \n",
    "menu()\n",
    "    "
   ]
  },
  {
   "cell_type": "code",
   "execution_count": null,
   "id": "c796b23e",
   "metadata": {},
   "outputs": [],
   "source": []
  }
 ],
 "metadata": {
  "kernelspec": {
   "display_name": "Python 3 (ipykernel)",
   "language": "python",
   "name": "python3"
  },
  "language_info": {
   "codemirror_mode": {
    "name": "ipython",
    "version": 3
   },
   "file_extension": ".py",
   "mimetype": "text/x-python",
   "name": "python",
   "nbconvert_exporter": "python",
   "pygments_lexer": "ipython3",
   "version": "3.11.5"
  }
 },
 "nbformat": 4,
 "nbformat_minor": 5
}
